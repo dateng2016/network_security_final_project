{
 "cells": [
  {
   "cell_type": "code",
   "execution_count": null,
   "metadata": {},
   "outputs": [],
   "source": [
    "from selenium import webdriver\n",
    "from selenium.webdriver.chrome.options import Options\n",
    "\n",
    "\n",
    "def get_cookies(url: str):\n",
    "    # Set up Chrome options for headless mode\n",
    "    options = Options()\n",
    "    options.add_argument(\"--headless\")  # Run in headless mode (no GUI)\n",
    "    \n",
    "    # Initialize WebDriver with the options\n",
    "    driver = webdriver.Chrome(options=options)\n",
    "    \"\"\"Retrieve cookies from the browser as a set of (name, value) tuples\"\"\"\n",
    "    try:\n",
    "        driver.get(url)\n",
    "        cookies = driver.get_cookies()\n",
    "        return cookies\n",
    "    except Exception as e:\n",
    "        print(f\"Error occurred -> {e}\")\n",
    "    finally:\n",
    "        driver.quit()"
   ]
  },
  {
   "cell_type": "code",
   "execution_count": null,
   "metadata": {},
   "outputs": [],
   "source": [
    "cookies = get_cookies(\"https://www.youtube.com\")\n",
    "for cookie in cookies:\n",
    "    print('-' * 50)\n",
    "    for key, value in cookie.items():\n",
    "        print(f'{key} -> {value}')"
   ]
  },
  {
   "cell_type": "code",
   "execution_count": null,
   "metadata": {},
   "outputs": [],
   "source": [
    "import pandas as pd\n",
    "\n",
    "\n",
    "df = pd.read_csv(\"open-cookie-database.csv\")\n",
    "name_to_category = dict()\n",
    "to_delete_arr = set()\n",
    "\n",
    "for idx, row in df.iterrows():\n",
    "    name = row[\"Cookie / Data Key name\"]\n",
    "\n",
    "    category = row[\"Category\"]\n",
    "    if name in name_to_category:\n",
    "        og_cat = name_to_category[name]\n",
    "        if category != og_cat:\n",
    "            to_delete_arr.add(name)\n",
    "    name_to_category[name] = row[\"Category\"]\n",
    "\n",
    "for to_delete in to_delete_arr:\n",
    "    name_to_category.pop(to_delete)\n"
   ]
  },
  {
   "cell_type": "code",
   "execution_count": null,
   "metadata": {},
   "outputs": [],
   "source": [
    "import json\n",
    "\n",
    "with open(\"top-10000-domains\", \"r\") as file:\n",
    "    website_arr = file.readlines()\n",
    "\n",
    "website_to_cookies = dict()\n",
    "for website in website_arr[:10]:\n",
    "    cookies = get_cookies(\"https://www.\" + website)\n",
    "    website_to_cookies[website] = cookies\n",
    "\n",
    "with open(\"website_cookies.json\", \"w\") as file:\n",
    "    json.dump(website_to_cookies, file, indent=4)\n",
    "\n"
   ]
  },
  {
   "cell_type": "code",
   "execution_count": null,
   "metadata": {},
   "outputs": [],
   "source": [
    "for website, cookies_arr in website_to_cookies.items():\n",
    "    if not cookies_arr:\n",
    "        continue\n",
    "    for cookie in cookies_arr:\n",
    "        name = cookie[\"name\"]\n",
    "        cookie[\"classficiation\"] = name_to_category.get(name)\n",
    "with open(\"website_cookies.json\", \"w\") as file:\n",
    "    json.dump(website_to_cookies, file, indent=4)"
   ]
  },
  {
   "cell_type": "code",
   "execution_count": 22,
   "metadata": {},
   "outputs": [],
   "source": [
    "s = set()\n",
    "for idx, row in df.iterrows():\n",
    "    s.add(row['Category'])"
   ]
  },
  {
   "cell_type": "code",
   "execution_count": null,
   "metadata": {},
   "outputs": [],
   "source": []
  }
 ],
 "metadata": {
  "kernelspec": {
   "display_name": "venv",
   "language": "python",
   "name": "python3"
  },
  "language_info": {
   "codemirror_mode": {
    "name": "ipython",
    "version": 3
   },
   "file_extension": ".py",
   "mimetype": "text/x-python",
   "name": "python",
   "nbconvert_exporter": "python",
   "pygments_lexer": "ipython3",
   "version": "3.9.6"
  }
 },
 "nbformat": 4,
 "nbformat_minor": 2
}
