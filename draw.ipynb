{
 "cells": [
  {
   "cell_type": "markdown",
   "metadata": {},
   "source": [
    "# Import Required Libraries\n",
    "Import the necessary libraries, including `json` and `collections`."
   ]
  },
  {
   "cell_type": "code",
   "execution_count": 1,
   "metadata": {},
   "outputs": [],
   "source": [
    "import json  # For working with JSON data\n",
    "from collections import Counter  # For counting occurrences in categories"
   ]
  },
  {
   "cell_type": "markdown",
   "metadata": {},
   "source": [
    "# Load and Parse JSON Data\n",
    "Load the JSON data from the file and parse it into a Python dictionary."
   ]
  },
  {
   "cell_type": "code",
   "execution_count": 2,
   "metadata": {},
   "outputs": [],
   "source": [
    "# Load and Parse JSON Data\n",
    "with open('/Users/hanqihua/Desktop/network_security_final_project/output.json', 'r') as file:\n",
    "    json_data = json.load(file)  # Load JSON data from the file into a Python dictionary\n",
    "\n",
    "# Verify the structure of the loaded data (optional)\n",
    "# print(json_data)  # Uncomment this line to inspect the data structure"
   ]
  },
  {
   "cell_type": "markdown",
   "metadata": {},
   "source": [
    "# Count Cookies by Category\n",
    "Iterate through the JSON data to count cookies in each category using a dictionary or `collections.Counter`."
   ]
  },
  {
   "cell_type": "code",
   "execution_count": 3,
   "metadata": {},
   "outputs": [
    {
     "data": {
      "text/plain": [
       "Counter({'Marketing': 21,\n",
       "         'Functional': 14,\n",
       "         'Analytics': 8,\n",
       "         'Personalization': 4,\n",
       "         'Security': 2})"
      ]
     },
     "execution_count": 3,
     "metadata": {},
     "output_type": "execute_result"
    }
   ],
   "source": [
    "# Count Cookies by Category\n",
    "cookie_counts = Counter()  # Initialize a Counter to store counts of each category\n",
    "\n",
    "# Iterate through the JSON data\n",
    "for domain, cookies in json_data.items():\n",
    "    if cookies:  # Ensure there are cookies for the domain\n",
    "        for cookie in cookies:\n",
    "            category = cookie.get('classification', 'Uncategorized')  # Default to 'Uncategorized' if no classification\n",
    "            cookie_counts[category] += 1  # Increment the count for the category\n",
    "\n",
    "# Display the counts for each category\n",
    "cookie_counts"
   ]
  },
  {
   "cell_type": "markdown",
   "metadata": {},
   "source": [
    "# Visualize Cookie Counts\n",
    "Use a library like Matplotlib or Seaborn to create a bar chart showing the count of cookies in each category."
   ]
  },
  {
   "cell_type": "code",
   "execution_count": 4,
   "metadata": {},
   "outputs": [
    {
     "ename": "ModuleNotFoundError",
     "evalue": "No module named 'matplotlib'",
     "output_type": "error",
     "traceback": [
      "\u001b[0;31m---------------------------------------------------------------------------\u001b[0m",
      "\u001b[0;31mModuleNotFoundError\u001b[0m                       Traceback (most recent call last)",
      "Cell \u001b[0;32mIn[4], line 1\u001b[0m\n\u001b[0;32m----> 1\u001b[0m \u001b[38;5;28;01mimport\u001b[39;00m\u001b[38;5;250m \u001b[39m\u001b[38;5;21;01mmatplotlib\u001b[39;00m\u001b[38;5;21;01m.\u001b[39;00m\u001b[38;5;21;01mpyplot\u001b[39;00m\u001b[38;5;250m \u001b[39m\u001b[38;5;28;01mas\u001b[39;00m\u001b[38;5;250m \u001b[39m\u001b[38;5;21;01mplt\u001b[39;00m  \u001b[38;5;66;03m# For creating visualizations\u001b[39;00m\n\u001b[1;32m      3\u001b[0m \u001b[38;5;66;03m# Extract categories and their counts from the Counter object\u001b[39;00m\n\u001b[1;32m      4\u001b[0m categories \u001b[38;5;241m=\u001b[39m \u001b[38;5;28mlist\u001b[39m(cookie_counts\u001b[38;5;241m.\u001b[39mkeys())\n",
      "\u001b[0;31mModuleNotFoundError\u001b[0m: No module named 'matplotlib'"
     ]
    }
   ],
   "source": [
    "import matplotlib.pyplot as plt  # For creating visualizations\n",
    "\n",
    "# Extract categories and their counts from the Counter object\n",
    "categories = list(cookie_counts.keys())\n",
    "counts = list(cookie_counts.values())\n",
    "\n",
    "# Create a bar chart\n",
    "plt.figure(figsize=(10, 6))  # Set the figure size\n",
    "plt.bar(categories, counts, color='skyblue')  # Create a bar chart with custom color\n",
    "\n",
    "# Add labels and title\n",
    "plt.xlabel('Cookie Categories', fontsize=12)\n",
    "plt.ylabel('Count', fontsize=12)\n",
    "plt.title('Count of Cookies in Each Category', fontsize=14)\n",
    "plt.xticks(rotation=45, ha='right')  # Rotate x-axis labels for better readability\n",
    "\n",
    "# Display the chart\n",
    "plt.tight_layout()  # Adjust layout to prevent clipping of labels\n",
    "plt.show()  # Render the bar chart"
   ]
  },
  {
   "cell_type": "code",
   "execution_count": null,
   "metadata": {},
   "outputs": [],
   "source": []
  }
 ],
 "metadata": {
  "kernelspec": {
   "display_name": "venv",
   "language": "python",
   "name": "python3"
  },
  "language_info": {
   "codemirror_mode": {
    "name": "ipython",
    "version": 3
   },
   "file_extension": ".py",
   "mimetype": "text/x-python",
   "name": "python",
   "nbconvert_exporter": "python",
   "pygments_lexer": "ipython3",
   "version": "3.10.9"
  }
 },
 "nbformat": 4,
 "nbformat_minor": 2
}
